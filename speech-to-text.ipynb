{
 "cells": [
  {
   "cell_type": "code",
   "execution_count": 6,
   "metadata": {},
   "outputs": [
    {
     "name": "stdout",
     "output_type": "stream",
     "text": [
      "Enter a word: is\n",
      "MoviePy - Writing audio in text.wav\n"
     ]
    },
    {
     "name": "stderr",
     "output_type": "stream",
     "text": [
      "                                                                                                                       \r"
     ]
    },
    {
     "name": "stdout",
     "output_type": "stream",
     "text": [
      "MoviePy - Done.\n",
      "Found word\n"
     ]
    }
   ],
   "source": [
    "import speech_recognition as sr\n",
    "import sys\n",
    "from moviepy.editor import *\n",
    "\n",
    "word = input(\"Enter a word: \")\n",
    "\n",
    "video = VideoFileClip(\"file.mp4\")\n",
    "audio = video.audio\n",
    "audio.write_audiofile(\"text.wav\")\n",
    "\n",
    "r=sr.Recognizer()\n",
    "with sr.AudioFile(\"text.wav\") as source:\n",
    "    Naudio=r.record(source)\n",
    "\n",
    "try:\n",
    "    speech=r.recognize_google(Naudio)\n",
    "    \n",
    "    #print (speech)\n",
    "    index = speech.find(word)\n",
    "    \n",
    "    if (index > -1):\n",
    "        print(\"Found word\")\n",
    "    else:\n",
    "        print(\"Not found\")\n",
    "    \n",
    "    \n",
    "    \n",
    "except:\n",
    "    print (\"Error\")"
   ]
  },
  {
   "cell_type": "code",
   "execution_count": null,
   "metadata": {},
   "outputs": [],
   "source": []
  }
 ],
 "metadata": {
  "kernelspec": {
   "display_name": "Python 3",
   "language": "python",
   "name": "python3"
  },
  "language_info": {
   "codemirror_mode": {
    "name": "ipython",
    "version": 3
   },
   "file_extension": ".py",
   "mimetype": "text/x-python",
   "name": "python",
   "nbconvert_exporter": "python",
   "pygments_lexer": "ipython3",
   "version": "3.8.3"
  }
 },
 "nbformat": 4,
 "nbformat_minor": 2
}
